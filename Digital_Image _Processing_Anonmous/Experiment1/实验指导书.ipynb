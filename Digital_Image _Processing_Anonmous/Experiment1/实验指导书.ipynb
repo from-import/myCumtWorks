{
 "cells": [
  {
   "cell_type": "markdown",
   "id": "098f3c2f",
   "metadata": {},
   "source": [
    "# 《图像处理与模式识别》实验指导书 (Python-Opencv版)"
   ]
  },
  {
   "cell_type": "markdown",
   "id": "a0780e7b",
   "metadata": {},
   "source": [
    "# ## 目录\n",
    "### 实验一   图像色彩、代数、几何变换  1学时\n",
    "### 实验二   图像增强   1学时\n",
    "### 实验三   图像分割与描述  1学时\n",
    "### 实验四   图像综合处理小设计实验  2学时\n",
    "### 实验五   九宫格人车识别   1学时\n",
    "### 实验六   手写数字或服饰识别 2学时"
   ]
  },
  {
   "cell_type": "markdown",
   "id": "0736df7a",
   "metadata": {},
   "source": [
    "## 实验环境配置"
   ]
  },
  {
   "cell_type": "markdown",
   "id": "a01e37d3",
   "metadata": {},
   "source": [
    "### 一、Anaconda安装"
   ]
  },
  {
   "cell_type": "raw",
   "id": "5cc70e5e",
   "metadata": {},
   "source": [
    "1.下载\n",
    "  选择1--官网\n",
    "  选择2--镜像网站安装（推荐）\n",
    "  \n",
    "2.安装\n",
    "  具体安装细节可以参考这个网页：https://zhuanlan.zhihu.com/p/75717350\n",
    "  "
   ]
  },
  {
   "cell_type": "markdown",
   "id": "06265e00",
   "metadata": {},
   "source": [
    "### 二、虚拟环境配置"
   ]
  },
  {
   "cell_type": "raw",
   "id": "a9fc372a",
   "metadata": {},
   "source": [
    "1.配置虚拟环境的原因\n",
    "  在实际项目开发中，通常会根据自己的需求去下载各种相应的框架库，但是可能每个项目使用的框架库并不一样，或使用框架的版本不一样，那就需要我们根据需求不断的更新或卸载相应的库。如果直接对Python环境操作，会对开发环境和项目造成很多不必要的麻烦，管理也相当混乱。\n",
    "  \n",
    "2.配置虚拟环境步骤\n",
    "步骤一：用管理员状态打开CMD\n",
    "步骤二：输入命令 conda create --name env_name python=3.9（这里的env_name是这个虚拟环境的命名，虚拟环境建立在anaconda安装路径下的envs文件夹里         面，3.9是python的版本，可以根据需求修改）\n",
    "步骤三：激活虚拟环境，通过输入activate+虚拟环境名实现\n",
    "步骤四：在虚拟环境中，根据项目需求进行包的下载，而这些操作都会在anaconda的envs对应的虚拟环境中修改，不会影响实际的环境\n",
    "步骤五：完成项目操作后，可以通过deactivate退出虚拟环境\n",
    "\n",
    "注：包的安装与卸载\n",
    "    安装：pip install pakage_name\n",
    "    卸载：pip uninstall pakage_name"
   ]
  },
  {
   "cell_type": "markdown",
   "id": "0782e6a9",
   "metadata": {},
   "source": [
    "## 实验一  图像色彩、代数、几何变换"
   ]
  },
  {
   "cell_type": "markdown",
   "id": "f01b5319",
   "metadata": {},
   "source": [
    "### 一、实验意义及目的"
   ]
  },
  {
   "cell_type": "raw",
   "id": "aa4b1203",
   "metadata": {},
   "source": [
    "（1）了解和掌握图像处理工具软件，熟悉相关图像处理函数，并为下一步编程进行图像处理打下基础。  \n",
    "（2）理解色彩的概念，掌握图像代数运算，几何变换方法。 "
   ]
  },
  {
   "cell_type": "markdown",
   "id": "03b9955f",
   "metadata": {},
   "source": [
    "### 二、实验内容\n",
    "打开一幅彩色图像Image1，对其进行下列变换："
   ]
  },
  {
   "cell_type": "raw",
   "id": "f1992b4d",
   "metadata": {},
   "source": [
    "（1）将Image1红绿色彩互换，并显示效果； \n",
    "（2）将Image1灰度化为gray，并显示灰度化后图像； \n",
    "（3）采用不同的插值方法实现gray的旋转、放大变换； \n",
    "（4）打开另一幅彩色图像Image2，和Image1进行代数运算，要求运用拼接、加减乘除等多种技术。 \n",
    "（5）使用python中matplotlib.pyplot进行图像显示。（未提供代码）\n",
    "（6）将蔬菜RGB图像转换到HSI空间，变换HSI空间各通道值，看图像效果。（未提供代码）"
   ]
  },
  {
   "cell_type": "markdown",
   "id": "b148b36c",
   "metadata": {},
   "source": [
    "### 三、相关函数介绍"
   ]
  },
  {
   "cell_type": "raw",
   "id": "2972e163",
   "metadata": {},
   "source": [
    "\n",
    "   (1)import cv2\n",
    "      功能：导入opencv模块\n",
    "    \n",
    "   (2)cv2.imread（）\n",
    "      功能：实现多种类型图像文件的读取\n",
    "      调用格式：\n",
    "      cv2.imread（filename,flags）\n",
    "      filename是图片存储的具体路径，flag的值定义了如何读取这幅图片（可以根据自己的需要对参数进行设置）\n",
    "      flag = -1,   8位深度，原通道\n",
    "      flag = 0，   8位深度，1通道\n",
    "      flag = 1，   8位深度，3通道\n",
    "      flag = 2，   原深度， 1通道\n",
    "      flag = 3，   原深度， 3通道\n",
    "      flag = 4，   8位深度，3通道 \n",
    "    \n",
    "   (3)cv2.namedWindow（）\n",
    "      功能：新建一个窗口，并且可以指定窗口的类型\n",
    "      调用格式：\n",
    "      cv2.namedWindow（winname,flags）\n",
    "      第一个参数是窗口名字\n",
    "      第二个参数一般有4种选择\n",
    "      cv2.WINDOW_NORMAL:窗口大小可改变\n",
    "      cv2.WINDOW_AUTOSIZE：无法调整窗口大小，该大小受所显示图像的限制。\n",
    "      cv2.WINDOW_FREERATIO：自适应比例。\n",
    "      cv2.WINDOW_KEEPRATIO：尊重图像的比例。\n",
    "    \n",
    "   (4)cv2.imshow（）\n",
    "      功能：显示图像\n",
    "      调用格式：\n",
    "      cv2.imshow（winname，mat）\n",
    "      第一个参数是窗口名字，第二个参数是需要显示的图片\n",
    "    \n",
    "   (5)cv2.waitKey（）\n",
    "      功能：定义窗口的显示时间\n",
    "      调用格式：\n",
    "      cv2.waitKey(delay)\n",
    "      参数=NONE & 0表示一直显示，其他数值表示显示的毫秒数\n",
    "    \n",
    "   (6)cv2.destroyAllWindows（）\n",
    "      功能：删除窗口,括号里不指定任何参数，则删除所有窗口，删除特定的窗口，往括号输入特定的窗口值。\n",
    "         \n",
    "   (7)cv2.cvtColor（）\n",
    "      功能：颜色空间转换\n",
    "      调用格式：\n",
    "      cv2.cvtColor(input_image，flags) \n",
    "      第二个参数常使用的转换的格式有：\n",
    "      cv2.COLOR_BGR2GRAY:将BGR格式转换成灰度格式\n",
    "      cv2.COLOR_BGR2HSV :将BGR格式转换成HSV格式\n",
    "      cv2.COLOR_BGR2HLS :将BGR格式转换成HLS格式\n",
    "      cv2.COLOR_RGB2HSV :将RGB格式转换成HSV格式\n",
    "    \n",
    "   (8)cv2.getRotationMatrix2D（）\n",
    "      功能：获得仿射变换矩阵M\n",
    "      调用格式：\n",
    "      cv2.getRotationMatrix2D(center, angle, scale)\n",
    "      这里的三个参数 分别是中心位置，旋转角度（正值为逆时针旋转，负值为顺时针旋转）和缩放程度\n",
    "         \n",
    "   (9)cv2.warpAffine（）\n",
    "      功能：利用变换矩阵对图像进行如旋转、仿射、平移等变换\n",
    "      调用格式：\n",
    "      cv2.warpAffine(src, M, dsize,dst,flags,borderMode,borderValue)\n",
    "        参数说明：\n",
    "         src\t         输入图像\n",
    "         M\t             变换矩阵，一般反映平移或旋转的关系，为InputArray类型的2×3变换矩阵。\n",
    "         dsize\t         输出图像的大小\n",
    "         flags\t         插值方法的组合（int 类型）\n",
    "         borderMode\t     边界像素模式（int 类型）\n",
    "         borderValue\t 边界填充值; 默认情况下，它为0，也就是边界填充默认是黑色。\n",
    "         \n",
    "         其中flags表示插值方式，有以下取值\n",
    "         cv2.INTER_LINEAR\t 线性插值(默认)\n",
    "         cv2.INTER_NEAREST\t 最近邻插值\n",
    "         cv2.INTER_AREA\t     区域插值\n",
    "         cv2.INTER_CUBIC\t 三次样条插值\n",
    "         cv2.INTER_LANCZOS4\t Lanczos插值\n",
    "         \n",
    "   (10)cv2.resize（）\n",
    "       功能：图像缩放\n",
    "       调用格式：\n",
    "       cv2.resize(InputArray src, OutputArray dst, Size, fx, fy, interpolation)\n",
    "       参数说明：\n",
    "       InputArray src\t输入图片\n",
    "       OutputArray dst\t输出图片\n",
    "       Size\t            输出图片尺寸\n",
    "       fx, fy\t        沿x轴，y轴的缩放系数\n",
    "       interpolation\t插入方式\n",
    "       \n",
    "       interpolation 选项所用的插值方法：\n",
    "       INTER_NEAREST   最近邻插值\n",
    "       INTER_LINEAR    双线性插值（默认设置）\n",
    "       INTER_AREA      使用像素区域关系进行重采样。\n",
    "       INTER_CUBIC     4x4像素邻域的双三次插值\n",
    "       INTER_LANCZOS4   8x8像素邻域的Lanczos插值 \n",
    "\n",
    "   (11)cv2.flip（）\n",
    "       功能：使图像进行翻转\n",
    "       调用格式：\n",
    "       cv2.flip(src, flipcode)\n",
    "       第一个参数代表需要操作的图像\n",
    "       第二个参数定义翻转方式，具体为\n",
    "          flipcode=1\t   水平翻转\n",
    "          flipcode=0\t   垂直翻转\n",
    "          flipcode=-1      水平垂直翻转\n",
    "          \n",
    "   (12)cv2.hconcat（）\n",
    "       功能：水平方向拼接\n",
    "       调用格式：\n",
    "       cv2.hconcat([image1,image2])\n",
    "       image1,image2指需要进行拼接的图片\n",
    "          \n",
    "   (13)cv2.vconcat（）\n",
    "       功能：垂直方向拼接\n",
    "       调用格式：\n",
    "       cv2.vconcat([image1,image2])"
   ]
  },
  {
   "cell_type": "markdown",
   "id": "f891deae",
   "metadata": {},
   "source": [
    "### 四、参考代码"
   ]
  },
  {
   "cell_type": "code",
   "execution_count": 2,
   "id": "1cdc69a7",
   "metadata": {},
   "outputs": [],
   "source": [
    "#部分代码需要根据实际情况更改\n",
    "#红绿通道互换 \n",
    "import cv2\n",
    "\n",
    "image = cv2.imread('E:\\\\pictures\\\\peppers.jpg')\n",
    "#image = cv2.imread('1.jpg')\n",
    "image1 = image.copy()\n",
    "image[:,:,1] = image1[:,:,2]\n",
    "image[:,:,2] = image1[:,:,1]\n",
    "cv2.namedWindow('changed picture',cv2.WINDOW_NORMAL)\n",
    "cv2.imshow('changed picture',image)\n",
    "cv2.waitKey(0)\n",
    "cv2.destroyAllWindows()"
   ]
  },
  {
   "cell_type": "code",
   "execution_count": null,
   "id": "73cd26a8",
   "metadata": {},
   "outputs": [],
   "source": [
    "#灰度化 \n",
    "import cv2\n",
    "\n",
    "image = cv2.imread('E:\\\\pictures\\\\peppers.jpg')\n",
    "gray = cv2.cvtColor(image,cv2.COLOR_BGR2GRAY)\n",
    "cv2.namedWindow('rgb to gray', cv2.WINDOW_NORMAL)\n",
    "cv2.imshow('rgb to gray',gray)\n",
    "cv2.waitKey(0)\n",
    "cv2.destroyAllWindows()"
   ]
  },
  {
   "cell_type": "code",
   "execution_count": 20,
   "id": "3003608a",
   "metadata": {},
   "outputs": [
    {
     "data": {
      "text/plain": [
       "-1"
      ]
     },
     "execution_count": 20,
     "metadata": {},
     "output_type": "execute_result"
    }
   ],
   "source": [
    "#图像旋转 \n",
    "import cv2\n",
    "\n",
    "image = cv2.imread('E:\\\\pictures\\\\peppers.jpg',0)\n",
    "imageInformation = image.shape\n",
    "height = imageInformation[0]\n",
    "width = imageInformation[1]\n",
    "M = cv2.getRotationMatrix2D((height*0.5,width*0.5),15,0.8)\n",
    "# 这里有三个参数 分别是中心位置，旋转角度，缩放程度\n",
    "dst = cv2.warpAffine(image,M,(height,width),cv2.INTER_NEAREST)\n",
    "cv2.namedWindow('rotate',cv2.WINDOW_NORMAL)\n",
    "cv2.imshow(\"rotate\",dst)\n",
    "cv2.waitKey(0)\n"
   ]
  },
  {
   "cell_type": "code",
   "execution_count": 39,
   "id": "54d2757c",
   "metadata": {},
   "outputs": [
    {
     "data": {
      "text/plain": [
       "-1"
      ]
     },
     "execution_count": 39,
     "metadata": {},
     "output_type": "execute_result"
    }
   ],
   "source": [
    "#图像缩放（缩放到原来的2.5倍）\n",
    "import cv2\n",
    "\n",
    "image = cv2.imread('E:\\\\pictures\\\\peppers.jpg',0)\n",
    "imageInformation = image.shape\n",
    "height = imageInformation[0]\n",
    "width = imageInformation[1]\n",
    "image1 = cv2.resize(image,(int(height*2.5),int(width*2.5)))\n",
    "cv2.namedWindow('result',cv2.WINDOW_NORMAL)\n",
    "cv2.imshow(\"result\",image1)\n",
    "cv2.waitKey(0)"
   ]
  },
  {
   "cell_type": "code",
   "execution_count": null,
   "id": "299e9fc9",
   "metadata": {},
   "outputs": [],
   "source": [
    "#最近邻插值法缩放（缩放到原来的3倍）\n",
    "import cv2\n",
    "\n",
    "image = cv2.imread('E:\\\\pictures\\\\peppers.jpg',0)\n",
    "imageInformation = image.shape\n",
    "height = imageInformation[0]\n",
    "width = imageInformation[1]\n",
    "image1 = cv2.resize(image,(0,0),fx=3,fy=3,interpolation = cv2.INTER_NEAREST)\n",
    "cv2.namedWindow('result',cv2.WINDOW_NORMAL)\n",
    "cv2.imshow(\"result\",image1)\n",
    "cv2.waitKey(0)\n"
   ]
  },
  {
   "cell_type": "code",
   "execution_count": 40,
   "id": "6c30ae19",
   "metadata": {},
   "outputs": [],
   "source": [
    "#图像镜像与拼接 \n",
    "import cv2\n",
    "\n",
    "image = cv2.imread('E:\\\\pictures\\\\lotus.bmp')\n",
    "flip_horizontal = cv2.flip(image , 1)\n",
    "flip_vertical = cv2.flip(image , 0)\n",
    "flip_hv = cv2.flip(image , -1)\n",
    "image1 = cv2.hconcat([image , flip_horizontal])\n",
    "image2 = cv2.hconcat([flip_vertical , flip_hv])\n",
    "image3 = cv2.vconcat([image1 , image2])\n",
    "cv2.namedWindow('result',cv2.WINDOW_NORMAL)\n",
    "cv2.imshow('result',image3)\n",
    "cv2.waitKey(0)\n",
    "cv2.destroyAllWindows()"
   ]
  },
  {
   "cell_type": "markdown",
   "id": "da5a5868",
   "metadata": {},
   "source": [
    "部分程序运行结果如下："
   ]
  },
  {
   "cell_type": "markdown",
   "id": "f7222319",
   "metadata": {},
   "source": [
    "![](./1.jpg)"
   ]
  },
  {
   "cell_type": "markdown",
   "id": "37d6df83",
   "metadata": {},
   "source": [
    "![](./2.jpg)"
   ]
  },
  {
   "cell_type": "markdown",
   "id": "46202181",
   "metadata": {},
   "source": [
    "![](./3.jpg)"
   ]
  },
  {
   "cell_type": "markdown",
   "id": "a359e2bf",
   "metadata": {},
   "source": [
    "![](./4.jpg)"
   ]
  },
  {
   "cell_type": "markdown",
   "id": "21141909",
   "metadata": {},
   "source": [
    "### 五、实验要求"
   ]
  },
  {
   "cell_type": "raw",
   "id": "267fe935",
   "metadata": {},
   "source": [
    "1.熟悉图像处理相关函数，读懂参考代码； \n",
    "2.尝试进行单步调试，查看每一步运行的结果；\n",
    "3.试着将实验中的图片换成别的图片看实验效果；\n",
    "4.图像插值时尝试其他插值方法的效果；\n",
    "5.提前编写程序实现实验内容中未提供代码的要求功能；\n",
    "6.实验报告中给出peppers.jpg 、lotus.bmp的分辨率"
   ]
  },
  {
   "cell_type": "markdown",
   "id": "c32212c7",
   "metadata": {},
   "source": [
    "### 六、实验考核"
   ]
  },
  {
   "cell_type": "raw",
   "id": "91c8bb43",
   "metadata": {},
   "source": [
    "预习准备情况（1/5）+现场考核（3/5）+实验报告（1/5）"
   ]
  },
  {
   "cell_type": "markdown",
   "id": "44ff8540",
   "metadata": {},
   "source": [
    "### 七、实验报告"
   ]
  },
  {
   "cell_type": "raw",
   "id": "dc33e785",
   "metadata": {},
   "source": [
    "实验结束后，撰写实验报告，实验报告主题部分应包括：算法原理、程序流程、算法各部分主要函数代码以及功能注释、运行结果四部分，按照各部分撰写情况打分。"
   ]
  },
  {
   "cell_type": "markdown",
   "id": "0a449c2c",
   "metadata": {},
   "source": [
    "## 实验二  图像增强"
   ]
  },
  {
   "cell_type": "markdown",
   "id": "8d191f0b",
   "metadata": {},
   "source": [
    "### 一、实验意义及目的"
   ]
  },
  {
   "cell_type": "raw",
   "id": "85053129",
   "metadata": {},
   "source": [
    "（1）进一步掌握图像处理工具，熟悉相关软件的的图像处理函数。 \n",
    "（2）掌握各种图像增强方法。 "
   ]
  },
  {
   "cell_type": "markdown",
   "id": "5ead063e",
   "metadata": {},
   "source": [
    "### 二、实验内容\n",
    "打开一幅彩色图像Image1，使用图像处理函数，对其进行下列变换："
   ]
  },
  {
   "cell_type": "raw",
   "id": "f059743c",
   "metadata": {},
   "source": [
    "（1）将Image1灰度化为gray，统计并显示其灰度直方图； \n",
    "（2）对gray进行分段线性变换； \n",
    "（3）对gray进行直方图均衡化； \n",
    "（4）对gray进行伪彩色增强； \n",
    "（5）对gray添加噪声并平滑； \n",
    "（6）对gray利用Sobel算子锐化。\n",
    "（7）对gray使用canny算子、形态学梯度进行锐化。（未提供代码）\n",
    "（8）对gray使用傅里叶变换在频域里进行低通、高通滤波实现平滑与锐化。（未提供代码）"
   ]
  },
  {
   "cell_type": "markdown",
   "id": "c6cdfad6",
   "metadata": {},
   "source": [
    "### 三、相关函数介绍"
   ]
  },
  {
   "cell_type": "raw",
   "id": "2462375c",
   "metadata": {},
   "source": [
    "（1）cv2.calcHist（）\n",
    "     功能：统计图像的直方图\n",
    "     调用格式：\n",
    "     cv2.calcHist(images, channels, mask, histSize, ranges,hist，accumulate)\n",
    "     参数说明：\n",
    "     images    输入图像\n",
    "     channels  计算直方图的通道。\n",
    "     Mask      一般用None，表示处理整幅图像。\n",
    "     histSize  表示这个直方图分成多少份（即多少个直方柱）。\n",
    "     ranges     直方图中各个像素的值的范围\n",
    "     最后是两个可选参数，由于直方图作为函数结果返回了，所以第六个hist就没有意义了（待确定） 最后一个accumulate是一个布尔值，用来表示直方图是      否叠加。\n",
    "   \n",
    "（2）cv2.equalizeHist（）\n",
    "     功能：进行直方图均衡化\n",
    "     调用格式：\n",
    "     cv2.equalizeHist(src,dst)\n",
    " \n",
    "（3）cv2.applyColorMap（）\n",
    "     功能：调用伪彩色模式\n",
    "     调用格式：\n",
    "     cv2.applyColorMap(src, colormap，dst)\n",
    "     \n",
    "（4）cv2.medianBlur（）    \n",
    "     功能：对图像进行中值滤波\n",
    "     调用格式：\n",
    "     cv2.medianBlur（src,ksize,dst）\n",
    " \n",
    "（5）cv2.GaussianBlur（）\n",
    "     功能：对图像进行高斯滤波\n",
    "     调用格式：\n",
    "     cv2.GaussianBlur(src, ksize, sigmaX, dst,sigmaY, borderType)\n",
    "     src\t        输入图像\n",
    "     dst\t        输出图像\n",
    "     ksize\t        高斯内核大小\n",
    "     sigmaX\t        沿X轴（水平方向）的内核标准偏差。\n",
    "     sigmaY\t        沿Y轴（垂直方向）的内核标准偏差。 如果sigmaY = 0，则将sigmaX值用于sigmaY\n",
    "     borderType\t    在将内核应用于图像边界时指定图像边界。 可能的值是cv.BORDER_CONSTANT cv.BORDER_REPLICATE cv.BORDER_REFLECT cv.BORDER_WRAP                     cv.BORDER_REFLECT_101 cv.BORDER_TRANSPARENT cv.BORDER_REFLECT101 cv.BORDER_DEFAULT cv.BORDER_ISOLATED\n",
    "（6）cv2.Sobel（）\n",
    "     功能：利用Sobel算子进行图像梯度计算\n",
    "     调用格式：\n",
    "     cv2.Sobel(src,ddepth,dx,dy,ksize,scale,delta,borderType)\n",
    "     参数说明：\n",
    "     src          输入图像\n",
    "     ddepth       输出图像的深度（可以理解为数据类型），-1表示与原图像相同的深度\n",
    "     dx,dy        当dx=1,dy=0时，求的是x方向的一阶导数；当dx=0,dy=1时，求的是y方向的一阶导数（如果同时为1，通常得不到想要的结果）\n",
    "     ksize        Sobel算子的大小，必须是1,3,5或者7,默认为3\n",
    "     scale        将梯度计算得到的数值放大的比例系数，效果通常使梯度图更亮，默认为1\n",
    "     delta        在将目标图像存储进多维数组前，可以将每个像素值增加delta，默认为0\n",
    "     borderType   决定图像在进行滤波操作时边沿像素的处理方式，默认为BORDER_DEFAULT\n",
    " \n",
    "（7）cv2.convertScaleAbs（）\n",
    "     功能：实现图像深度的转换\n",
    "     调用格式：\n",
    "     cv2.convertScaleAbs（src,dst,alpha,beta）\n",
    "     其中，alpha表示比例因子，beta为保存新图像（数组）前可以增加的值\n",
    "     \n",
    "（8）cv2.addWeighted（）\n",
    "     功能：实现图像的加权和融合\n",
    "     调用格式：\n",
    "     cv2.addWeighted(src1, alpha, src2, beta, gamma, dst=None, dtype=None)\n",
    "     参数说明：\n",
    "     src1, src2      需要融合相加的两幅大小和通道数相等的图像\n",
    "     alpha           src1的权重\n",
    "     beta            src2的权重\n",
    "     gamma           修正系数，不需要修正设置为0\n",
    "     dst             可选参数，输出结果保存的变量，默认值为None，如果为非None，输出图像保存到dst对应实参中，其大小和通道数与输入图像相同，                        图像的深度由dtype参数或输入图像确认\n",
    "     dtype           可选参数，输出图像数组的深度，即图像单个像素值的位数（如RGB用三个字节表示，则为24位），选默认值None表示与源图像保持一致"
   ]
  },
  {
   "cell_type": "markdown",
   "id": "6fa66f33",
   "metadata": {},
   "source": [
    "### 四、参考代码"
   ]
  },
  {
   "cell_type": "code",
   "execution_count": 4,
   "id": "1500e79c",
   "metadata": {},
   "outputs": [
    {
     "data": {
      "image/png": "[encoded data removed]",
      "text/plain": [
       "<Figure size 432x288 with 1 Axes>"
      ]
     },
     "metadata": {
      "needs_background": "light"
     },
     "output_type": "display_data"
    }
   ],
   "source": [
    "#灰度直方图\n",
    "import cv2\n",
    "from matplotlib import pyplot as plt\n",
    "import numpy as np\n",
    "\n",
    "\n",
    "image = cv2.imread('E:\\\\pictures\\\\lotus.bmp',0)\n",
    "hist = cv2.calcHist([image], [0], None, [256], [0, 255])\n",
    "plt.plot(hist)\n",
    "plt.xlim([0, 255])\n",
    "plt.show()"
   ]
  },
  {
   "cell_type": "code",
   "execution_count": 7,
   "id": "c419ae09",
   "metadata": {},
   "outputs": [],
   "source": [
    "#分段线性变换\n",
    "import cv2\n",
    "import numpy as np\n",
    "\n",
    "image = cv2.imread('E:\\\\pictures\\\\lotus.bmp',0)\n",
    "h,w = image.shape[:2]\n",
    "out = np.zeros(image.shape, np.uint8)\n",
    "for i in range(h):\n",
    "    for j in range(w):\n",
    "        pix = image[i][j]\n",
    "        if pix < 10:\n",
    "            out[i][j] = 0\n",
    "        elif pix < 180:\n",
    "            out[i][j] = pix\n",
    "        else:\n",
    "            out[i][j] = 255\n",
    "\n",
    "cv2.namedWindow('result', 0)\n",
    "cv2.imshow('result' , out)\n",
    "cv2.waitKey(0)\n",
    "cv2.destroyAllWindows()"
   ]
  },
  {
   "cell_type": "code",
   "execution_count": null,
   "id": "a4284164",
   "metadata": {},
   "outputs": [],
   "source": [
    "#直方图均衡化\n",
    "import cv2\n",
    "\n",
    "image = cv2.imread('E:\\\\pictures\\\\lotus.bmp',0)\n",
    "equalizedimage = cv2.equalizeHist(image)\n",
    "cv2.namedWindow('equalizedimage', cv2.WINDOW_NORMAL)\n",
    "cv2.imshow('equalizedimage', equalizedimage)\n",
    "cv2.waitKey(0)\n",
    "cv2.destroyAllWindows()"
   ]
  },
  {
   "cell_type": "code",
   "execution_count": 8,
   "id": "ca69d51f",
   "metadata": {},
   "outputs": [],
   "source": [
    "#伪彩色增强\n",
    "import cv2\n",
    "\n",
    "image = cv2.imread('E:\\\\pictures\\\\lotus.bmp',0)\n",
    "color_image = cv2.applyColorMap(image, cv2.COLORMAP_JET)\n",
    "cv2.imshow(\"color_image\", color_image)\n",
    "cv2.waitKey(0)\n",
    "cv2.destroyAllWindows()\n"
   ]
  },
  {
   "cell_type": "code",
   "execution_count": 9,
   "id": "9a09ff1a",
   "metadata": {},
   "outputs": [],
   "source": [
    "#椒盐噪声3*3中值滤波\n",
    "import cv2\n",
    "import numpy as np\n",
    "import random\n",
    "\n",
    "#椒盐噪声\n",
    "def sp_noise(image,prob):\n",
    "    thres = 1 - prob\n",
    "    output = np.zeros(image.shape, np.uint8)\n",
    "    for i in range(image.shape[0]):\n",
    "        for j in range(image.shape[1]):\n",
    "            rdn = random.random()#生成0-1之间的随机值\n",
    "            if rdn < prob:\n",
    "                output[i][j] = 0\n",
    "            elif rdn > thres:\n",
    "                output[i][j] = 1\n",
    "            else:\n",
    "                output[i][j] = image[i][j]\n",
    "    return output\n",
    "\n",
    "image = cv2.imread('E:\\\\pictures\\\\lotus.bmp',0)\n",
    "image1 = sp_noise(image, 0.04)\n",
    "image2 = cv2.medianBlur(image1, 3)\n",
    "image3 = cv2.hconcat([image, image1])\n",
    "cv2.namedWindow('result', cv2.WINDOW_NORMAL)\n",
    "cv2.imshow('result', image3)\n",
    "cv2.waitKey(0)\n",
    "cv2.destroyAllWindows()"
   ]
  },
  {
   "cell_type": "code",
   "execution_count": 11,
   "id": "5c3df643",
   "metadata": {},
   "outputs": [],
   "source": [
    "#高斯滤波\n",
    "import cv2\n",
    "import numpy as np\n",
    "import random\n",
    "\n",
    "def gaussian_noise(image,mean,var):\n",
    "    image = np.array(image/255,dtype=float)\n",
    "    noise = np.random.normal(mean,var**0.5,image.shape)\n",
    "    out = image+noise\n",
    "    if out.min() < 0:\n",
    "        low_clip = -1\n",
    "    else:\n",
    "        low_clip = 0\n",
    "    out = np.clip(out,low_clip,1.0)\n",
    "    out = np.uint8(out * 255)\n",
    "    return  out\n",
    "\n",
    "image = cv2.imread('E:\\\\pictures\\\\lotus.bmp',0)\n",
    "out1 = gaussian_noise(image,0,0.01)\n",
    "gaussianblurimage = cv2.GaussianBlur(out1, (3,3) , 3,3)\n",
    "final = cv2.hconcat([gaussianblurimage,out1])\n",
    "cv2.namedWindow('result', cv2.WINDOW_NORMAL)\n",
    "cv2.imshow('result', final)\n",
    "cv2.waitKey(0)\n",
    "cv2.destroyAllWindows()"
   ]
  },
  {
   "cell_type": "code",
   "execution_count": 16,
   "id": "7bfa8700",
   "metadata": {},
   "outputs": [],
   "source": [
    "#Sobel梯度图像\n",
    "import cv2\n",
    "\n",
    "image = cv2.imread('E:\\\\pictures\\\\lotus.bmp',0)\n",
    "sobel_x = cv2.Sobel(image, cv2.CV_64F, 1, 0, 3)\n",
    "sobel_y = cv2.Sobel(image, cv2.CV_64F, 0, 1, 3)\n",
    "sobel_x = cv2.convertScaleAbs(sobel_x)\n",
    "sobel_y = cv2.convertScaleAbs(sobel_y)\n",
    "sobel_xy = cv2.addWeighted(sobel_x, 0.5, sobel_y, 0.5, 0)\n",
    "cv2.namedWindow('result', cv2.WINDOW_NORMAL)\n",
    "cv2.imshow('result', sobel_xy)\n",
    "cv2.waitKey(0)\n",
    "cv2.destroyAllWindows()\n"
   ]
  },
  {
   "cell_type": "code",
   "execution_count": 15,
   "id": "09734fe9",
   "metadata": {},
   "outputs": [],
   "source": [
    "#Sobel锐化图像\n",
    "import cv2\n",
    "\n",
    "image = cv2.imread('E:\\\\pictures\\\\lotus.bmp',0)\n",
    "sobel_x = cv2.Sobel(image, cv2.CV_64F, 1, 0, 3)\n",
    "sobel_y = cv2.Sobel(image, cv2.CV_64F, 0, 1, 3)\n",
    "sobel_x = cv2.convertScaleAbs(sobel_x)\n",
    "sobel_y = cv2.convertScaleAbs(sobel_y)\n",
    "sobel_xy = cv2.addWeighted(sobel_x, 0.5, sobel_y, 0.5, 0)\n",
    "result = image+sobel_xy\n",
    "cv2.namedWindow('result', cv2.WINDOW_NORMAL)\n",
    "cv2.imshow('result', result)\n",
    "cv2.waitKey(0)\n",
    "cv2.destroyAllWindows()"
   ]
  },
  {
   "cell_type": "markdown",
   "id": "6e4b70ac",
   "metadata": {},
   "source": [
    "程序的运行效果如下："
   ]
  },
  {
   "cell_type": "markdown",
   "id": "bbafe421",
   "metadata": {},
   "source": [
    "![](./5.jpg)"
   ]
  },
  {
   "cell_type": "markdown",
   "id": "62faacae",
   "metadata": {},
   "source": [
    "![](./6.jpg)"
   ]
  },
  {
   "cell_type": "markdown",
   "id": "99cd015b",
   "metadata": {},
   "source": [
    "![](./7.jpg)"
   ]
  },
  {
   "cell_type": "markdown",
   "id": "6746300a",
   "metadata": {},
   "source": [
    "![](./8.jpg)"
   ]
  },
  {
   "cell_type": "markdown",
   "id": "bc002f46",
   "metadata": {},
   "source": [
    "![](./9.jpg)"
   ]
  },
  {
   "cell_type": "markdown",
   "id": "ca8bc49b",
   "metadata": {},
   "source": [
    "### 五、实验要求"
   ]
  },
  {
   "cell_type": "raw",
   "id": "87706035",
   "metadata": {},
   "source": [
    "1.\t熟悉相关图像处理函数，读懂参考代码； 提前编写程序实现实验内容中未提供代码的要求功能；\n",
    "2.\t在此基础上，变换参数，或设计不同的方法，如更改伪彩色增强方法为热金属编码或彩虹编码，更改噪声参数，设计不同的滤波方法等，充分发挥个人主动性完成实验内容，不能完全照搬参考代码。 \n",
    "3.\t使用所学的不同锐化方法锐化图像，并对比效果。"
   ]
  },
  {
   "cell_type": "markdown",
   "id": "49a0f1f1",
   "metadata": {},
   "source": [
    "### 六、实验考核"
   ]
  },
  {
   "cell_type": "raw",
   "id": "c47c1381",
   "metadata": {},
   "source": [
    "预习准备情况（1/5）+现场考核（3/5）+实验报告(1/5) "
   ]
  },
  {
   "cell_type": "markdown",
   "id": "ea52b877",
   "metadata": {},
   "source": [
    "### 七、实验报告"
   ]
  },
  {
   "cell_type": "raw",
   "id": "f5eec5f3",
   "metadata": {},
   "source": [
    "实验结束后，撰写实验报告，实验报告主题部分应包括：算法原理、程序流程、算法各部分主要函数代码以及功能注释、运行结果四部分，按照各部分撰写情况打分。"
   ]
  },
  {
   "cell_type": "markdown",
   "id": "39f5a899",
   "metadata": {},
   "source": [
    "## 实验三 图像分割与描述"
   ]
  },
  {
   "cell_type": "markdown",
   "id": "5e281416",
   "metadata": {},
   "source": [
    "### 一、实验意义及目的 "
   ]
  },
  {
   "cell_type": "raw",
   "id": "5e23af54",
   "metadata": {},
   "source": [
    "（1）\t进一步掌握图像处理工具，熟悉图像处理函数。 \n",
    "（2）\t掌握图像分割方法，熟悉常用图像描述方法。 "
   ]
  },
  {
   "cell_type": "markdown",
   "id": "6e0fad76",
   "metadata": {},
   "source": [
    "### 二、实验内容"
   ]
  },
  {
   "cell_type": "markdown",
   "id": "ff099606",
   "metadata": {},
   "source": [
    "打开一幅图像Image，使用图像处理函数，对其进行下列变换： "
   ]
  },
  {
   "cell_type": "raw",
   "id": "2ca535b2",
   "metadata": {},
   "source": [
    "（1）将Image灰度化为gray，对其进行阈值分割转换为BW； \n",
    "（2）对BW进行数学形态学滤波； \n",
    "（3）对BW进行边缘跟踪，用红色线在图中标出； \n",
    "（4）计算各区域边界点的傅里叶描绘子并用四分之一点重建边界; \n",
    "（5）使用多种方法分割图像（未提供代码）。\n",
    "（6）选做加分：尝试使用深度学习的方法进行图像分割；（未提供代码）"
   ]
  },
  {
   "cell_type": "markdown",
   "id": "72dbf966",
   "metadata": {},
   "source": [
    "### 三、相关函数介绍"
   ]
  },
  {
   "cell_type": "raw",
   "id": "0f97b629",
   "metadata": {},
   "source": [
    "（1）cv2.threshold（）\n",
    "     功能：对图像进行阈值处理\n",
    "     调用格式：\n",
    "     cv2.threshold (src, thresh, maxval, type)\n",
    "     src\t源图片，必须是单通道\n",
    "     thresh\t阈值，取值范围0～255\n",
    "     maxval\t填充色，取值范围0～255\n",
    "     type\t阈值类型，主要是以下5种\n",
    "     \n",
    "     cv2.THRESH_BINARY\t     二进制阈值化，非黑即白\n",
    "     cv2.THRESH_BINARY_INV\t 反二进制阈值化，非白即黑\n",
    "     cv2.THRESH_TRUNC\t     截断阈值化 ，大于阈值设为阈值\n",
    "     cv2.THRESH_TOZERO\t     阈值化为0 ，小于阈值设为0\n",
    "     cv2.THRESH_TOZERO_INV\t 反阈值化为0 ，大于阈值设为0\n",
    "\n",
    "（2）cv2.getStructuringElement（）\n",
    "     功能：返回指定形状和尺寸的结构元素\n",
    "     调用格式：\n",
    "     cv2.getStructuringElement（shape,ksize,anchor）\n",
    "     shape表示内核的形状，有三种形状可以选择\n",
    "     矩形：MORPH_RECT;交叉形：MORPH_CROSS;椭圆形：MORPH_ELLIPSE;\n",
    "     第二和第三个参数分别是内核的尺寸以及锚点的位置。对于锚点的位置，有默认值Point（-1,-1），表示锚点位于中心点。\n",
    "     \n",
    "（3）cv2.morphologyEx（）\n",
    "     功能：进行各类形态学的变化\n",
    "     调用格式：\n",
    "     cv2.morphologyEx(src, op, kernel)\n",
    "     第二个参数主要有5种选择\n",
    "     cv2.MORPH_OPEN\t    开运算 ,先腐蚀后膨胀的过程。开运算能够除去孤立的小点，毛刺和小桥，而总的位置和形状不便\n",
    "     cv2.MORPH_CLOSE\t闭运算，先膨胀后腐蚀的过程。闭运算能够填平小孔，弥合小裂缝，而总的位置和形状不变。\n",
    "     cv2.MORPH_GRADIENT\t形态学梯度，能够突出团块的边缘，保留物体的边缘轮廓。\n",
    "     cv2.MORPH_TOPHAT\t顶帽，将突出比原轮廓亮的部分。\n",
    "     cv2.MORPH_BLACKHAT\t黑帽，将突出比原轮廓暗的部分。\n",
    "\n",
    "(4)cv2.findContours()\n",
    "   功能：寻找图像轮廓\n",
    "   调用格式：\n",
    "   cv2.findContours（image,mode,method）\n",
    "   mode表示轮廓检索模式，有4种选择\n",
    "   RETR_EXTERNAL   只检测外轮廓　　　　\n",
    "   RETR_LIST       检测的轮廓不建立等级关系　　　　\n",
    "   RETR_CCOMP      建立两个等级的轮廓，上面的一层为外边界，里面的一层为内孔的边界信息。如果内孔内还有一个连通物体，这个物体的边界也在顶                          层。　　　　\n",
    "   RETR_TREE       建立一个等级树结构的轮廓\n",
    "\n",
    "   method表示轮廓逼近方法，有3种选择\n",
    "   cv2.CHAIN_APPROX_NONE     存储轮廓所有点的信息，相邻两个轮廓点在图象上也是相邻的；\n",
    "   cv2.CHAIN_APPROX_SIMPLE   压缩水平方向，垂直方向，对角线方向的元素，只保留该方向的终点坐标；\n",
    "   cv2.CHAIN_APPROX_TC89_L1  使用teh-Chinl chain 近似算法保存轮廓信息。\n",
    "\n",
    "（5）cv2.drawContours（）\n",
    "     功能：绘制图像轮廓\n",
    "     调用格式：\n",
    "     cv2.drawContours(image, contours, contourIdx, color, thickness=None, lineType=None）\n",
    "     第一个参数image表示目标图像，\n",
    "     第二个参数contours表示输入的轮廓组，每一组轮廓由点vector构成，\n",
    "     第三个参数contourIdx指明画第几个轮廓，如果该参数为负值，则画全部轮廓，\n",
    "     第四个参数color为轮廓的颜色，\n",
    "     第五个参数thickness为轮廓的线宽，如果为负值或CV_FILLED表示填充轮廓内部，\n",
    "     第六个参数lineType为线型，\n",
    "\n",
    "（6）np.fft.fft（）\n",
    "     功能：实现快速傅里叶变换\n",
    "     调用格式：\n",
    "     np.fft.fft（signal）\n"
   ]
  },
  {
   "cell_type": "markdown",
   "id": "4fbd2593",
   "metadata": {},
   "source": [
    "### 四、参考代码"
   ]
  },
  {
   "cell_type": "code",
   "execution_count": 6,
   "id": "099aaeb4",
   "metadata": {},
   "outputs": [],
   "source": [
    "#二值化图像\n",
    "import cv2\n",
    "\n",
    "image = cv2.imread('E:\\\\pictures\\\\plane.jpg', 0)\n",
    "ret,BWimage = cv2.threshold(image, 127, 255, cv2.THRESH_BINARY)\n",
    "cv2.namedWindow('result', cv2.WINDOW_NORMAL)\n",
    "cv2.imshow('result', BWimage)\n",
    "cv2.waitKey(0)\n",
    "cv2.destroyAllWindows()"
   ]
  },
  {
   "cell_type": "code",
   "execution_count": null,
   "id": "21a36732",
   "metadata": {},
   "outputs": [],
   "source": [
    "#形态学滤波\n",
    "import cv2\n",
    "\n",
    "image = cv2.imread('E:\\\\pictures\\\\plane.jpg', 0)\n",
    "ret, BWimage = cv2.threshold(image, 127, 255, cv2.THRESH_BINARY)\n",
    "kernel = cv2.getStructuringElement(cv2.MORPH_RECT, (3, 3))\n",
    "LBimage1 = cv2.morphologyEx(BWimage, cv2.MORPH_OPEN, kernel)\n",
    "LBimage2 = cv2.morphologyEx(BWimage, cv2.MORPH_CLOSE, kernel)\n",
    "LBimage3 = cv2.morphologyEx(BWimage, cv2.MORPH_GRADIENT, kernel)\n",
    "LBimage4 = cv2.morphologyEx(BWimage, cv2.MORPH_TOPHAT, kernel)\n",
    "LBimage5 = cv2.morphologyEx(BWimage, cv2.MORPH_BLACKHAT, kernel)\n",
    "A = cv2.hconcat([LBimage1, LBimage2, LBimage3 ])\n",
    "B = cv2.hconcat([LBimage4, LBimage5,  BWimage])\n",
    "C =cv2.vconcat([A, B])\n",
    "cv2.namedWindow('result', cv2.WINDOW_NORMAL)\n",
    "cv2.imshow('result', C)\n",
    "cv2.waitKey(0)\n",
    "cv2.destroyAllWindows()"
   ]
  },
  {
   "cell_type": "code",
   "execution_count": 4,
   "id": "16ab12c5",
   "metadata": {},
   "outputs": [],
   "source": [
    "#绘制轮廓\n",
    "import cv2\n",
    "\n",
    "image = cv2.imread('E:\\\\pictures\\\\plane.jpg')\n",
    "image1 = cv2.cvtColor(image, cv2.COLOR_BGR2GRAY)\n",
    "ret, BWimage = cv2.threshold(image1, 127, 255, cv2.THRESH_BINARY_INV)\n",
    "contours, hierarchy = cv2.findContours(BWimage, cv2.RETR_EXTERNAL, cv2.CHAIN_APPROX_NONE)\n",
    "cv2.drawContours(image, contours, -1, (0, 0, 255), 1)\n",
    "cv2.namedWindow('result',  cv2.WINDOW_NORMAL)\n",
    "cv2.imshow('result', image)\n",
    "cv2.waitKey(0)\n",
    "cv2.destroyAllWindows()"
   ]
  },
  {
   "cell_type": "code",
   "execution_count": 8,
   "id": "bffa0c75",
   "metadata": {},
   "outputs": [],
   "source": [
    "#重建的图像\n",
    "import cv2\n",
    "import numpy as np\n",
    "\n",
    "gray = cv2.imread('E:\\\\pictures\\\\plane.jpg',0)\n",
    "image = cv2.imread('E:\\\\pictures\\\\plane.jpg')\n",
    "ret, BWimage = cv2.threshold(gray, 127, 255, cv2.THRESH_BINARY_INV)\n",
    "contours, hierarchy = cv2.findContours(BWimage, cv2.RETR_EXTERNAL, cv2.CHAIN_APPROX_NONE)  \n",
    "contour_array = contours[0]\n",
    "contours_complex = np.empty(contour_array.shape[:-1], dtype=complex)\n",
    "contours_complex.real = contour_array[:,:,0]\n",
    "contours_complex.imag = contour_array[:,:,1]\n",
    "\n",
    "for i in range(1,len(contours_complex.real),4):\n",
    "    contours_complex.real[i,0] = contour_array[i,:,0]\n",
    "\n",
    "for j in range(1,len(contours_complex.imag),4):\n",
    "    contours_complex.imag[j,0] = contour_array[j,:,1]\n",
    "\n",
    "fourier_result = np.fft.fft(contours_complex)\n",
    "contour_reconstruct = np.fft.ifft(fourier_result)\n",
    "contour_reconstruct = np.array([contour_reconstruct.real,contour_reconstruct.imag])\n",
    "contour_reconstruct = np.transpose(contour_reconstruct)\n",
    "contour_reconstruct = np.expand_dims(contour_reconstruct, axis = 1)\n",
    "cv2.drawContours(image,contour_reconstruct.astype(int),-1, (0, 0, 255), 1)\n",
    "cv2.namedWindow(\"contour_reconstruct\",0)\n",
    "cv2.imshow(\"contour_reconstruct\", image)\n",
    "cv2.waitKey(0)\n",
    "cv2.destroyAllWindows()"
   ]
  },
  {
   "cell_type": "markdown",
   "id": "50241359",
   "metadata": {},
   "source": [
    "程序运行结果如下："
   ]
  },
  {
   "cell_type": "markdown",
   "id": "eae41a9a",
   "metadata": {},
   "source": [
    "![](./10.jpg)"
   ]
  },
  {
   "cell_type": "markdown",
   "id": "d39e6c45",
   "metadata": {},
   "source": [
    "![](./11.jpg)"
   ]
  },
  {
   "cell_type": "markdown",
   "id": "3b25be11",
   "metadata": {},
   "source": [
    "![](./12.jpg)"
   ]
  },
  {
   "cell_type": "markdown",
   "id": "955141fd",
   "metadata": {},
   "source": [
    "### 五、实验要求"
   ]
  },
  {
   "cell_type": "raw",
   "id": "d9dcaeee",
   "metadata": {},
   "source": [
    "1.熟悉图像处理相关函数，读懂参考代码； \n",
    "2.在此基础上，变换参数，或设计不同的方法，如设计不同的滤波方法等，充分发挥个人主动\n",
    "性完成实验内容，不能完全照搬参考代码。 \n",
    "3.使用三种及以上方法分割图像，并对比效果。"
   ]
  },
  {
   "cell_type": "markdown",
   "id": "fdf90188",
   "metadata": {},
   "source": [
    "### 六、实验考核"
   ]
  },
  {
   "cell_type": "raw",
   "id": "a1b80a73",
   "metadata": {},
   "source": [
    "预习准备情况（1/5）+现场考核（3/5）+实验报告(1/5) "
   ]
  },
  {
   "cell_type": "markdown",
   "id": "c8fd8051",
   "metadata": {},
   "source": [
    "### 七、实验报告"
   ]
  },
  {
   "cell_type": "raw",
   "id": "c7f2a484",
   "metadata": {},
   "source": [
    "实验结束后，撰写实验报告，实验报告主题部分应包括：算法原理、程序流程、算法各部分主要函数代码以及功能注释、运行结果四部分，按照各部分撰写情况打分。 "
   ]
  },
  {
   "cell_type": "markdown",
   "id": "8b9110b4",
   "metadata": {},
   "source": [
    "## 实验四 图像综合处理小设计实验 "
   ]
  },
  {
   "cell_type": "markdown",
   "id": "301e4746",
   "metadata": {},
   "source": [
    "### 一、实验意义及目的"
   ]
  },
  {
   "cell_type": "markdown",
   "id": "0d6af52d",
   "metadata": {},
   "source": [
    "充分利用所学各种图像处理技术，实现对图像的综合处理，加深对基础知识的理解和应用。 "
   ]
  },
  {
   "cell_type": "markdown",
   "id": "417d2375",
   "metadata": {},
   "source": [
    "### 二、实验内容"
   ]
  },
  {
   "cell_type": "raw",
   "id": "069b1951",
   "metadata": {},
   "source": [
    "在下列题目中任意选择3个题目完成实验，提前预先编好程序。建议实验时，自己收集与提供的图片类似图片测试所编程序的效果，效果不佳再改进程序。 \n",
    "1．机器视觉图像的目标与背景的分割与提取主要要求：对输入图像可以达到目标和背景的分割\n",
    "建议方法： \n",
    "（1）\t将已知图像进行消噪处理；\n",
    "（2）\t对彩色图像进行目标和背景分析；\n",
    "（3）\t通过阈值法将图像进行分割；\n",
    "（4）\t确定目标的位置。\n",
    "使用上述方法完成功能后，可尝试使用深度学习的方案；"
   ]
  },
  {
   "cell_type": "markdown",
   "id": "7e404852",
   "metadata": {},
   "source": [
    "![](./13.jpg)"
   ]
  },
  {
   "cell_type": "raw",
   "id": "f034502e",
   "metadata": {},
   "source": [
    "2.基于Sobel算子完成对图像的搜索 \n",
    "主要要求：从图像中检索出飞机图像，要求五架飞机全部找到。 \n",
    "建议方法： \n",
    "（1）\t对待检测图片进行预处理（灰度化、二值化）； \n",
    "（2）\t对图像进行边缘提取； \n",
    "（3）\t改进算子，使图像达到标准对照图像效果。 \n",
    "使用上述方法完成功能后，可尝试使用深度学习的方案；"
   ]
  },
  {
   "cell_type": "markdown",
   "id": "016cab99",
   "metadata": {},
   "source": [
    " ![](./14.jpg)"
   ]
  },
  {
   "cell_type": "raw",
   "id": "e74f1470",
   "metadata": {},
   "source": [
    "3. 硬币检测及计数 \n",
    "主要要求：白色背景上扔几枚不同面值的硬币，拍摄图像，通过图像处理，获取硬币的数目及\n",
    "金额。 \n",
    "建议方法： \n",
    "（1）\t图像分割； \n",
    "（2）\t边缘检测、滤波去燥； \n",
    "（3）\t连通区域检测，判断硬币个数； \n",
    "（4）\t边缘图像通过霍夫变换检测圆，进而检测硬币金额。 \n",
    "使用上述方法完成功能后，可尝试使用深度学习的方案；"
   ]
  },
  {
   "cell_type": "markdown",
   "id": "c814255d",
   "metadata": {},
   "source": [
    " ![](./15.jpg)"
   ]
  },
  {
   "cell_type": "raw",
   "id": "31cd1664",
   "metadata": {},
   "source": [
    "4. 基于彩色阈值变换的香蕉彩色图像分割 \n",
    "主要要求：利用香蕉和其它水果及其背景颜色在R、G、B分量上的差异进行识别,根据香蕉和其它水果在R、G、B分量的二值化处理，获得特征提取的有效区域，然后提取特征，达到提取香蕉的目的。 \n",
    "建议方法： \n",
    "（1）\t分别截取图像中香蕉和其它水果的感兴趣区域，并将其转换为R分量、G分量、B分量的灰度图像对各个分量进行灰度值统计，得到灰度直方图； \n",
    "（2）\t设定阈值对其进行二值化； \n",
    "（3）\t特征提取。根据香蕉、草莓、奇异果的特征统计出各自的个数。 (图片可自己在网上下载符合条件的)\n",
    "使用上述方法完成功能后，可尝试使用深度学习的方案；"
   ]
  },
  {
   "cell_type": "markdown",
   "id": "dd839269",
   "metadata": {},
   "source": [
    " ![](./16.jpg)"
   ]
  },
  {
   "cell_type": "markdown",
   "id": "62e35fd6",
   "metadata": {},
   "source": [
    "### 三、实验要求"
   ]
  },
  {
   "cell_type": "raw",
   "id": "5e00c4e7",
   "metadata": {},
   "source": [
    "提前预先编好程序，实验完成时教师会提问问题。每个题目使用多种方法完成任务。"
   ]
  },
  {
   "cell_type": "markdown",
   "id": "b4e9e711",
   "metadata": {},
   "source": [
    "### 四、实验考核"
   ]
  },
  {
   "cell_type": "raw",
   "id": "7c69e966",
   "metadata": {},
   "source": [
    "实验预习实现（2/5）+现场考核（2/5）+实验报告(1/5) "
   ]
  },
  {
   "cell_type": "markdown",
   "id": "53e06af4",
   "metadata": {},
   "source": [
    "### 五、实验报告"
   ]
  },
  {
   "cell_type": "raw",
   "id": "1be18b7f",
   "metadata": {},
   "source": [
    "实验结束后，撰写实验报告，实验报告主题部分应包括：算法原理、程序流程、算法各部分主要函数代码以及功能注释、运行结果四部分， 按照各部分撰写情况打分。"
   ]
  },
  {
   "cell_type": "markdown",
   "id": "06cb4af2",
   "metadata": {},
   "source": [
    "## 实验五 九宫格人车识别"
   ]
  },
  {
   "cell_type": "markdown",
   "id": "8d9c477f",
   "metadata": {},
   "source": [
    "### 一、实验意义及目的"
   ]
  },
  {
   "cell_type": "raw",
   "id": "a26986a9",
   "metadata": {},
   "source": [
    "充分利用所学各种图像处理技术，实现对图像的综合处理，加深对基础知识的理解和应用。"
   ]
  },
  {
   "cell_type": "markdown",
   "id": "2d3dd332",
   "metadata": {},
   "source": [
    "### 二、实验内容"
   ]
  },
  {
   "cell_type": "raw",
   "id": "246fc12b",
   "metadata": {},
   "source": [
    "至少使用2种方法，自动识别下列九宫格图像中小人的位置，并将小人分割出来。"
   ]
  },
  {
   "cell_type": "markdown",
   "id": "005be9fa",
   "metadata": {},
   "source": [
    " ![](./17.png)"
   ]
  },
  {
   "cell_type": "raw",
   "id": "c5345e20",
   "metadata": {},
   "source": [
    "建议方法：\n",
    "\t\t1）将图像二值化后，提取分割九个宫格九宫格图像，根据小人和小车黑色像素点的不同识别出小人的图像；\n",
    "      2）使用角点特征来匹配识别小人，再分割确定其位置；\n",
    "      3）使用目标检测的方法寻找小人，再分割确定其位置；"
   ]
  },
  {
   "cell_type": "markdown",
   "id": "09cfdf99",
   "metadata": {},
   "source": [
    "### 三、实验要求"
   ]
  },
  {
   "cell_type": "raw",
   "id": "86aadec9",
   "metadata": {},
   "source": [
    "提前预先编好程序，实验完成时教师会提问问题，使用多种方法完成任务并对比效果。"
   ]
  },
  {
   "cell_type": "markdown",
   "id": "96c6ef12",
   "metadata": {},
   "source": [
    "### 四、实验考核"
   ]
  },
  {
   "cell_type": "raw",
   "id": "3eddd0c4",
   "metadata": {},
   "source": [
    "实验预习实现（2/5）+现场考核（2/5）+实验报告(1/5)."
   ]
  },
  {
   "cell_type": "markdown",
   "id": "c9844656",
   "metadata": {},
   "source": [
    "### 五、实验报告"
   ]
  },
  {
   "cell_type": "raw",
   "id": "7c521fda",
   "metadata": {},
   "source": [
    "实验结束后，撰写实验报告，实验报告主题部分应包括：算法原理、程序流程、算法各部分主要函数代码以及功能注释、运行结果四部分，按照撰写情况打分。 \n"
   ]
  },
  {
   "cell_type": "markdown",
   "id": "fea902e7",
   "metadata": {},
   "source": [
    "## 实验六 手写数字或服饰识别"
   ]
  },
  {
   "cell_type": "markdown",
   "id": "a67a63e4",
   "metadata": {},
   "source": [
    "### 一、实验意义及目的"
   ]
  },
  {
   "cell_type": "raw",
   "id": "508e06f1",
   "metadata": {},
   "source": [
    "了解Pytorch深度学习框架，充分利用所学各种图像处理技术，实现对图像的综合处理，加深对基础知识的理解和应用。"
   ]
  },
  {
   "cell_type": "markdown",
   "id": "5594bf8f",
   "metadata": {},
   "source": [
    "### 二、实验内容"
   ]
  },
  {
   "cell_type": "raw",
   "id": "f8d3e990",
   "metadata": {},
   "source": [
    "搭建简单神经网络，对MNIST或Fashion-MNIST数据集进行训练并进行测试识别。"
   ]
  },
  {
   "cell_type": "markdown",
   "id": "3efd464d",
   "metadata": {},
   "source": [
    "![MNIST](./MNIST.png)"
   ]
  },
  {
   "cell_type": "markdown",
   "id": "9c331e6c",
   "metadata": {},
   "source": [
    "![FashionMNIST](./FashionMNIST.png)"
   ]
  },
  {
   "cell_type": "raw",
   "id": "df4f491f",
   "metadata": {},
   "source": [
    "建议方法：\n",
    "基本神经网络方法，卷积神经网络方法"
   ]
  },
  {
   "cell_type": "markdown",
   "id": "3d7dea24",
   "metadata": {},
   "source": [
    "### 三、实验要求"
   ]
  },
  {
   "cell_type": "raw",
   "id": "b5c18788",
   "metadata": {
    "vscode": {
     "languageId": "raw"
    }
   },
   "source": [
    "（1）了解相关pytorch函数，读懂CNN识别与神经网络识别的参考代码；\n",
    "（2）给代码加上注释，若由于环境等问题不能直接运行，进行相关配置与解决；\n",
    "（3）参考代码进行代码补全；\n",
    "（4）尝试修改lr,batch_size等参数，观察不同训练效果\n",
    "（5）尝试自己学习并使用其他损失函数和优化器，观察不同训练效果\n",
    "（6）尝试自己添加一些网络层，观察不同训练效果"
   ]
  },
  {
   "cell_type": "markdown",
   "id": "ee78a292",
   "metadata": {},
   "source": [
    "### 四、参考代码"
   ]
  },
  {
   "cell_type": "code",
   "execution_count": 1,
   "id": "ce180a10",
   "metadata": {},
   "outputs": [],
   "source": [
    "#导入相关库\n",
    "import torch\n",
    "from torch import nn\n",
    "from torch.utils.data import DataLoader\n",
    "from torchvision import datasets\n",
    "from torchvision.transforms import ToTensor\n",
    "import matplotlib.pyplot as plt\n",
    "import numpy as np\n",
    "import os\n",
    "import torch.nn.functional as F\n",
    "import torch.optim as optim"
   ]
  },
  {
   "cell_type": "code",
   "execution_count": 2,
   "id": "6da3a003",
   "metadata": {},
   "outputs": [],
   "source": [
    "#参数定义\n",
    "#dataset = \"FashionMNIST\" #选择所使用的数据集\"MNIST\"or\"FashionMNIST\"\n",
    "dataset = \"MNIST\"\n",
    "#Net = \"LeNet5\" #选择所使用的网络\"LeNet5\"or \"LinearNet\"\n",
    "Net = \"LinearNet\" #选择所使用的网络\"LeNet5\"or \"LinearNet\"\n",
    "batch_size = 64 #定义批处理大小\n",
    "lr=0.01 #设置learning rate学习率\n",
    "epochs = 5 #指定训练迭代次数\n",
    "save_path = \"./\" #模型保存路径\n",
    "Early_Stopping = 0 #选择是否使用Early Stopping训练模式，训练时根据精度的变化率来控制训练迭代代数"
   ]
  },
  {
   "cell_type": "code",
   "execution_count": 3,
   "id": "0eb11096",
   "metadata": {},
   "outputs": [
    {
     "name": "stderr",
     "output_type": "stream",
     "text": [
      "D:\\ProgramData\\Anaconda3\\envs\\pytorch\\lib\\site-packages\\torchvision\\datasets\\mnist.py:498: UserWarning: The given NumPy array is not writeable, and PyTorch does not support non-writeable tensors. This means you can write to the underlying (supposedly non-writeable) NumPy array using the tensor. You may want to copy the array to protect its data or make it writeable before converting it to a tensor. This type of warning will be suppressed for the rest of this program. (Triggered internally at  ..\\torch\\csrc\\utils\\tensor_numpy.cpp:180.)\n",
      "  return torch.from_numpy(parsed.astype(m[2], copy=False)).view(*s)\n"
     ]
    }
   ],
   "source": [
    "#下载数据集\n",
    "if dataset==\"MNIST\":\n",
    "    # 从torchvision下载训练集.\n",
    "    training_data = datasets.MNIST(\n",
    "        root=\"data\",\n",
    "        train=True,\n",
    "        download=True,\n",
    "        transform=ToTensor(),\n",
    "    )\n",
    "\n",
    "    # #从torchvision下载测试集.\n",
    "    test_data = datasets.MNIST(\n",
    "        root=\"data\",\n",
    "        train=False,\n",
    "        download=True,\n",
    "        transform=ToTensor(),\n",
    "    )\n",
    "    classes = [ \"0\", \"1\", \"2\", \"3\", \"4\", \"5\", \"6\", \"7\", \"8\", \"9\"]\n",
    "else:\n",
    "    # 从torchvision下载训练集.\n",
    "    training_data = datasets.FashionMNIST(\n",
    "        root=\"data\",\n",
    "        train=True,\n",
    "        download=True,\n",
    "        transform=ToTensor(),\n",
    "    )\n",
    "\n",
    "    # #从torchvision下载测试集.\n",
    "    test_data = datasets.FashionMNIST(\n",
    "        root=\"data\",\n",
    "        train=False,\n",
    "        download=True,\n",
    "        transform=ToTensor(),\n",
    "    )\n",
    "    classes = [ \"T-shirt/top\", \"Trouser\", \"Pullover\", \"Dress\", \"Coat\", \"Sandal\",\"Shirt\", \"Sneaker\", \"Bag\", \"Ankle boot\"]"
   ]
  },
  {
   "cell_type": "code",
   "execution_count": 4,
   "id": "653062a5",
   "metadata": {},
   "outputs": [
    {
     "name": "stdout",
     "output_type": "stream",
     "text": [
      "Shape of X [N, C, H, W]: torch.Size([64, 1, 28, 28])\n",
      "Shape of y: torch.Size([64]) torch.int64\n"
     ]
    },
    {
     "data": {
      "image/png": "[encoded data removed]",
      "text/plain": [
       "<Figure size 640x480 with 6 Axes>"
      ]
     },
     "metadata": {},
     "output_type": "display_data"
    }
   ],
   "source": [
    "# 创建数据加载器.\n",
    "train_dataloader = DataLoader(training_data, batch_size=batch_size)\n",
    "test_dataloader = DataLoader(test_data, batch_size=batch_size)\n",
    "\n",
    "#观察数据样本\n",
    "for X, y in test_dataloader:\n",
    "    print(f\"Shape of X [N, C, H, W]: {X.shape}\")\n",
    "    print(f\"Shape of y: {y.shape} {y.dtype}\")\n",
    "    fig = plt.figure()\n",
    "    for i in range(6):\n",
    "      plt.subplot(2,3,i+1)\n",
    "      plt.tight_layout()\n",
    "      plt.imshow(X[i][0], cmap='gray', interpolation='none')\n",
    "      plt.title(\"Ground Truth: {}\".format(classes[int(y[i])]))\n",
    "      plt.xticks([])\n",
    "      plt.yticks([])\n",
    "    plt.show()\n",
    "    break"
   ]
  },
  {
   "cell_type": "code",
   "execution_count": 5,
   "id": "0d5cd9d1",
   "metadata": {},
   "outputs": [
    {
     "name": "stdout",
     "output_type": "stream",
     "text": [
      "Using cpu device\n"
     ]
    }
   ],
   "source": [
    "# 自动选择cpu或gpu用于训练.\n",
    "device = (\n",
    "    \"cuda\"\n",
    "    if torch.cuda.is_available()\n",
    "    else \"cpu\"\n",
    ")\n",
    "print(f\"Using {device} device\")"
   ]
  },
  {
   "cell_type": "code",
   "execution_count": 6,
   "id": "1dc6f98f",
   "metadata": {},
   "outputs": [
    {
     "name": "stdout",
     "output_type": "stream",
     "text": [
      "LinearNet(\n",
      "  (flatten): Flatten(start_dim=1, end_dim=-1)\n",
      "  (linear_relu_stack): Sequential(\n",
      "    (0): Linear(in_features=784, out_features=512, bias=True)\n",
      "    (1): ReLU()\n",
      "    (2): Linear(in_features=512, out_features=512, bias=True)\n",
      "    (3): ReLU()\n",
      "    (4): Linear(in_features=512, out_features=10, bias=True)\n",
      "  )\n",
      ")\n"
     ]
    }
   ],
   "source": [
    "#定义模型\n",
    "\n",
    "if Net == \"LinearNet\":\n",
    "    class LinearNet(nn.Module):\n",
    "        def __init__(self):\n",
    "            super().__init__()\n",
    "            self.flatten = nn.Flatten()\n",
    "            self.linear_relu_stack = nn.Sequential(\n",
    "                nn.Linear(28*28, 512),\n",
    "                nn.ReLU(),\n",
    "                nn.Linear(512, 512),\n",
    "                nn.ReLU(),\n",
    "                nn.Linear(512, 10)\n",
    "            )\n",
    "\n",
    "        def forward(self, x):\n",
    "            x = self.flatten(x)\n",
    "            logits = self.linear_relu_stack(x)\n",
    "            return logits\n",
    "\n",
    "    model = LinearNet().to(device)\n",
    "    \n",
    "else:\n",
    "    class CNN_1(nn.Module):\n",
    "        def __init__(self):\n",
    "            super(CNN_1, self).__init__()\n",
    "                nn.Conv2d(\n",
    "                ## 卷积核大小为羽3，输入通道为__，输出通道为13，步长为1;\n",
    "                ## paddingHzero padding\n",
    "                ##要求经过conv1的输出空间维度与输入的空间维度相同\n",
    "                in_channels =       ,\n",
    "                out_channels =          ,\n",
    "                kernels_size =           ,\n",
    "                stride=                 ,\n",
    "                padding=            ,\n",
    "            )\n",
    "            ##激活函数+最大池化\n",
    "            ,\n",
    "            ,\n",
    "            \n",
    "            self.conv2d = nn.Sequential(\n",
    "            ## 1. 卷积核大小为3*3，输入通道为10，输出通道为10，padding 方法为same，padding大小为？？？步长为??\n",
    "            ## 2.自行选择激活函数\n",
    "            ## 3. 池化\n",
    "\n",
    "\n",
    "\n",
    "\n",
    "            )\n",
    "            ## 添加残差连接模块\n",
    "            #############残差模块设计部分################\n",
    "\n",
    "\n",
    "\n",
    "\n",
    "            ############################################\n",
    "            self.conv3 = nn.Sequential(\n",
    "                ##自行设计卷积模块\n",
    "\n",
    "\n",
    "            )\n",
    "            self.out1 = nn.Linear(3*3*29, 10, bias = True)\n",
    "            ## 在下方添加Dropout以及其他代码\n",
    "            \n",
    "\n",
    "        def forward(self, x):\n",
    "            ## 请将余下代码补充完整\n",
    "\n",
    "\n",
    "    model = CNN_1().to(device)\n",
    "\n",
    "\n",
    "print(model)"
   ]
  },
  {
   "cell_type": "markdown",
   "id": "3823c79c",
   "metadata": {},
   "source": [
    "![LeNet-5](./LeNet-5.jpg)"
   ]
  },
  {
   "cell_type": "code",
   "execution_count": 7,
   "id": "4640bb55",
   "metadata": {},
   "outputs": [
    {
     "name": "stdout",
     "output_type": "stream",
     "text": [
      "Epoch 1\n",
      "-------------------------------\n",
      "loss: 2.310157  [   64/60000]\n",
      "loss: 2.255705  [ 6464/60000]\n",
      "loss: 2.219243  [12864/60000]\n",
      "loss: 2.015800  [19264/60000]\n",
      "loss: 1.852811  [25664/60000]\n",
      "loss: 1.544494  [32064/60000]\n",
      "loss: 1.164786  [38464/60000]\n",
      "loss: 1.102608  [44864/60000]\n",
      "loss: 0.855882  [51264/60000]\n",
      "loss: 0.716411  [57664/60000]\n",
      "Test Error: \n",
      " Accuracy: 83.3%, Avg loss: 0.661168 \n",
      "\n",
      "Epoch 2\n",
      "-------------------------------\n",
      "loss: 0.739424  [   64/60000]\n",
      "loss: 0.552977  [ 6464/60000]\n",
      "loss: 0.556154  [12864/60000]\n",
      "loss: 0.530490  [19264/60000]\n",
      "loss: 0.468894  [25664/60000]\n",
      "loss: 0.451964  [32064/60000]\n",
      "loss: 0.342593  [38464/60000]\n",
      "loss: 0.503526  [44864/60000]\n",
      "loss: 0.463082  [51264/60000]\n",
      "loss: 0.470099  [57664/60000]\n",
      "Test Error: \n",
      " Accuracy: 88.9%, Avg loss: 0.391432 \n",
      "\n",
      "Epoch 3\n",
      "-------------------------------\n",
      "loss: 0.417350  [   64/60000]\n",
      "loss: 0.315711  [ 6464/60000]\n",
      "loss: 0.325021  [12864/60000]\n",
      "loss: 0.406835  [19264/60000]\n",
      "loss: 0.326629  [25664/60000]\n",
      "loss: 0.374817  [32064/60000]\n",
      "loss: 0.239529  [38464/60000]\n",
      "loss: 0.420350  [44864/60000]\n",
      "loss: 0.383979  [51264/60000]\n",
      "loss: 0.425964  [57664/60000]\n",
      "Test Error: \n",
      " Accuracy: 90.5%, Avg loss: 0.330049 \n",
      "\n",
      "Epoch 4\n",
      "-------------------------------\n",
      "loss: 0.316552  [   64/60000]\n",
      "loss: 0.268695  [ 6464/60000]\n",
      "loss: 0.246773  [12864/60000]\n",
      "loss: 0.371894  [19264/60000]\n",
      "loss: 0.275253  [25664/60000]\n",
      "loss: 0.335943  [32064/60000]\n",
      "loss: 0.203020  [38464/60000]\n",
      "loss: 0.382334  [44864/60000]\n",
      "loss: 0.338214  [51264/60000]\n",
      "loss: 0.400558  [57664/60000]\n",
      "Test Error: \n",
      " Accuracy: 91.4%, Avg loss: 0.299417 \n",
      "\n",
      "Epoch 5\n",
      "-------------------------------\n",
      "loss: 0.263625  [   64/60000]\n",
      "loss: 0.250378  [ 6464/60000]\n",
      "loss: 0.206313  [12864/60000]\n",
      "loss: 0.352884  [19264/60000]\n",
      "loss: 0.243308  [25664/60000]\n",
      "loss: 0.310380  [32064/60000]\n",
      "loss: 0.183422  [38464/60000]\n",
      "loss: 0.358683  [44864/60000]\n",
      "loss: 0.302009  [51264/60000]\n",
      "loss: 0.379364  [57664/60000]\n",
      "Test Error: \n",
      " Accuracy: 92.0%, Avg loss: 0.278075 \n",
      "\n",
      "Done!\n"
     ]
    }
   ],
   "source": [
    "#为了训练模型，我们需要一个损失函数和一个优化器\n",
    "loss_fn = nn.CrossEntropyLoss()#定义损失函数\n",
    "optimizer = torch.optim.???????(model.parameters(), ????????)#定义优化器\n",
    "\n",
    "#在单个训练循环中，模型对训练数据集进行预测（分批提供给它），并反向传播预测误差以调整模型的参数\n",
    "def train(dataloader, model, loss_fn, optimizer):\n",
    "    size = len(dataloader.dataset)\n",
    "    model.train()\n",
    "    for batch, (X, y) in enumerate(dataloader):\n",
    "        X, y = X.to(device), y.to(device)\n",
    "\n",
    "        # Compute prediction error\n",
    "        pred = model(X)\n",
    "        loss = loss_fn(pred, y)\n",
    "\n",
    "        # Backpropagation\n",
    "        loss.backward()\n",
    "        optimizer.step()\n",
    "        optimizer.zero_grad()\n",
    "\n",
    "        if batch % 100 == 0:\n",
    "            loss, current = loss.item(), (batch + 1) * len(X)\n",
    "            print(f\"loss: {loss:>7f}  [{current:>5d}/{size:>5d}]\")\n",
    "\n",
    "#对照测试数据集检查模型的性能，以确保它正在学习\n",
    "def test(dataloader, model, loss_fn):\n",
    "    size = len(dataloader.dataset)\n",
    "    num_batches = len(dataloader)\n",
    "    model.eval()\n",
    "    test_loss, correct = 0, 0\n",
    "    with torch.no_grad():\n",
    "        for X, y in dataloader:\n",
    "            X, y = X.to(device), y.to(device)\n",
    "            pred = model(X)\n",
    "            test_loss += loss_fn(pred, y).item()\n",
    "            correct += (pred.argmax(1) == y).type(torch.float).sum().item()\n",
    "    test_loss /= num_batches\n",
    "    correct /= size\n",
    "    print(f\"Test Error: \\n Accuracy: {(100*correct):>0.1f}%, Avg loss: {test_loss:>8f} \\n\")\n",
    "    return test_loss\n",
    "    \n",
    "#实现Early Stopping训练\n",
    "class EarlyStopping:\n",
    "    def __init__(self, save_path, patience=2, verbose=False, delta=0.03):\n",
    "        \"\"\"\n",
    "        Args:\n",
    "            save_path : 模型保存路径\n",
    "            patience (int): 设置将连续几次训练迭代纳入Early Stopping考评\n",
    "            verbose (bool): 如果是 \"True\"，则为每次验证损失的优化值打印一条信息\n",
    "            delta (float): 前后两次训练迭代的最小变化阈值，小于该阈值则认为模型优化幅度有限，将该次迭代计入patience，\n",
    "                           数量达到patience则提前停止训练。\n",
    "        \"\"\"\n",
    "        self.save_path = save_path\n",
    "        self.patience = patience\n",
    "        self.verbose = verbose\n",
    "        self.counter = 0\n",
    "        self.best_score = None\n",
    "        self.early_stop = False\n",
    "        self.val_loss_min = np.Inf\n",
    "        self.delta = delta\n",
    "\n",
    "    def __call__(self, val_loss, model):\n",
    "\n",
    "        score = -val_loss\n",
    "\n",
    "        if self.best_score is None:\n",
    "            self.best_score = score\n",
    "            self.save_checkpoint(val_loss, model)\n",
    "        elif score < self.best_score + self.delta:\n",
    "            self.counter += 1\n",
    "            print(f'EarlyStopping counter: {self.counter} out of {self.patience}')\n",
    "            if self.counter >= self.patience:\n",
    "                self.early_stop = True\n",
    "        else:\n",
    "            self.best_score = score\n",
    "            self.save_checkpoint(val_loss, model)\n",
    "            self.counter = 0\n",
    "\n",
    "    def save_checkpoint(self, val_loss, model):\n",
    "        '''当验证损失降低时，保存模型'''\n",
    "        if self.verbose:\n",
    "            print(f'Validation loss decreased ({self.val_loss_min:.6f} --> {val_loss:.6f}).  Saving model ...')\n",
    "        path = os.path.join(self.save_path, 'best_network.pth')\n",
    "        torch.save(model.state_dict(), path)\t# 这里会存储迄今最优模型的参数\n",
    "        self.val_loss_min = val_loss\n",
    "\n",
    "\n",
    "    \n",
    "#训练过程是在所定义的几个迭代上进行的。在每次迭代，模型学习参数以做出更好的预测。我们在每次迭代打印模型的准确性和损失；我们希望看到精度随着迭代次数的增加而增加，而损失随着迭代次数的减少而减少\n",
    "early_stopping = EarlyStopping(save_path)\n",
    "for t in range(epochs):\n",
    "    print(f\"Epoch {t+1}\\n-------------------------------\")\n",
    "    train(train_dataloader, model, loss_fn, optimizer)\n",
    "    test_loss = test(test_dataloader, model, loss_fn)\n",
    "    if Early_Stopping:\n",
    "        early_stopping(test_loss, model)\n",
    "        if early_stopping.early_stop:\n",
    "            print(\"Early stopping\")\n",
    "            break #跳出迭代，结束训练\n",
    "print(\"Done!\")"
   ]
  },
  {
   "cell_type": "code",
   "execution_count": 8,
   "id": "81749826",
   "metadata": {},
   "outputs": [
    {
     "name": "stdout",
     "output_type": "stream",
     "text": [
      "Saved PyTorch Model State to model.pth\n"
     ]
    }
   ],
   "source": [
    "#保存模型的一种常见方法是序列化内部状态字典(包含模型参数)\n",
    "torch.save(model.state_dict(), \"model.pth\")\n",
    "print(\"Saved PyTorch Model State to model.pth\")"
   ]
  },
  {
   "cell_type": "code",
   "execution_count": 76,
   "id": "afac335b",
   "metadata": {},
   "outputs": [
    {
     "name": "stdout",
     "output_type": "stream",
     "text": [
      "Predicted: \"7\", Actual: \"7\"\n"
     ]
    }
   ],
   "source": [
    "#加载模型的过程包括重新创建模型结构并将状态字典加载到其中。\n",
    "model = LinearNet().to(device) if Net == \"LinearNet\" else LeNet5().to(device)\n",
    "model.load_state_dict(torch.load(\"model.pth\"))\n",
    "\n",
    "model.eval()\n",
    "x, y = test_data[0][0], test_data[0][1]\n",
    "with torch.no_grad():\n",
    "    x = x.to(device)\n",
    "    pred = model(x)\n",
    "    predicted, actual = classes[pred[0].argmax(0)], classes[y]\n",
    "    print(f'Predicted: \"{predicted}\", Actual: \"{actual}\"')\n"
   ]
  },
  {
   "cell_type": "markdown",
   "id": "3fe661a7",
   "metadata": {},
   "source": [
    "## 五、实验考核"
   ]
  },
  {
   "cell_type": "raw",
   "id": "db767850",
   "metadata": {},
   "source": [
    "实验预习实现（2/5）+现场考核（2/5）+实验报告(1/5)."
   ]
  },
  {
   "cell_type": "markdown",
   "id": "cd4d79b4",
   "metadata": {},
   "source": [
    "# #六、实验报告"
   ]
  },
  {
   "cell_type": "raw",
   "id": "d607b7ab",
   "metadata": {},
   "source": [
    "实验结束后，撰写实验报告，实验报告主题部分应包括：算法原理、程序流程、算法各部分主要函数代码以及功能注释、运行结果四部分，按照撰写情况打分。"
   ]
  }
 ],
 "metadata": {
  "kernelspec": {
   "display_name": "opecvpython",
   "language": "python",
   "name": "opecvpython"
  },
  "language_info": {
   "codemirror_mode": {
    "name": "ipython",
    "version": 3
   },
   "file_extension": ".py",
   "mimetype": "text/x-python",
   "name": "python",
   "nbconvert_exporter": "python",
   "pygments_lexer": "ipython3",
   "version": "3.10.6"
  }
 },
 "nbformat": 4,
 "nbformat_minor": 5
}
